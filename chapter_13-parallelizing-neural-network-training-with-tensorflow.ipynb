{
 "cells": [
  {
   "cell_type": "markdown",
   "metadata": {},
   "source": [
    "# Parallelizing Neural Network Training with Tensorflow\n",
    "\n",
    "## First Steps with Tensorflow\n",
    "\n",
    "Let's tart by exploring tensorflow's low level API."
   ]
  },
  {
   "cell_type": "code",
   "execution_count": 12,
   "metadata": {},
   "outputs": [],
   "source": [
    "import tensorflow as tf\n",
    "import numpy as np"
   ]
  },
  {
   "cell_type": "code",
   "execution_count": 13,
   "metadata": {},
   "outputs": [
    {
     "name": "stdout",
     "output_type": "stream",
     "text": [
      "x =  1.0 --> z =  2.7\n",
      "x =  0.6 --> z =  1.9\n",
      "x = -1.8 --> z = -2.9\n"
     ]
    }
   ],
   "source": [
    "# create a graph\n",
    "g = tf.Graph()\n",
    "with g.as_default():\n",
    "    x = tf.placeholder(dtype=tf.float32,\n",
    "                      shape=(None),\n",
    "                      name='x')\n",
    "    w = tf.Variable(2.0, name='weight')\n",
    "    b = tf.Variable(0.7, name='bias')\n",
    "    \n",
    "    z = w*x + b\n",
    "    \n",
    "    init = tf.global_variables_initializer()\n",
    "    \n",
    "# create session and pass in graph g\n",
    "with tf.Session(graph=g) as sess:\n",
    "    # initalize w and b\n",
    "    sess.run(init)\n",
    "    # evaluate z\n",
    "    for t in [1.0, 0.6, -1.8]:\n",
    "        print ('x = %4.1f --> z = %4.1f' % (t, sess.run(z, feed_dict={x:t})))"
   ]
  },
  {
   "cell_type": "markdown",
   "metadata": {},
   "source": [
    "## Working with Array Structures"
   ]
  },
  {
   "cell_type": "code",
   "execution_count": 16,
   "metadata": {},
   "outputs": [
    {
     "name": "stdout",
     "output_type": "stream",
     "text": [
      "input shape:  (3, 2, 3)\n",
      "Reshaped\n",
      " [[ 0.  1.  2.  3.  4.  5.]\n",
      " [ 6.  7.  8.  9. 10. 11.]\n",
      " [12. 13. 14. 15. 16. 17.]]\n",
      "Column Sums \n",
      " [18. 21. 24. 27. 30. 33.]\n",
      "Column Means \n",
      " [ 6.  7.  8.  9. 10. 11.]\n"
     ]
    }
   ],
   "source": [
    "g = tf.Graph()\n",
    "with g.as_default():\n",
    "    x = tf.placeholder(dtype=tf.float32,\n",
    "                       shape=(None, 2, 3),\n",
    "                       name='input_x')\n",
    "    \n",
    "    x2 = tf.reshape(x, shape=(-1, 6),\n",
    "                   name='x2')\n",
    "    \n",
    "    \n",
    "    ## calculate the sum of each column\n",
    "    xsum = tf.reduce_sum(x2, axis=0, name='col_sum')\n",
    "    ## calcualte the mean of each column\n",
    "    xmean = tf.reduce_mean(x2, axis=0, name='col_mean')\n",
    "    \n",
    "with tf.Session(graph=g) as sess:\n",
    "    x_array = np.arange(18).reshape(3,2,3)\n",
    "    \n",
    "    print ('input shape: ', x_array.shape)\n",
    "    print ('Reshaped\\n', sess.run(x2, feed_dict={x:x_array}))\n",
    "    print ('Column Sums \\n', sess.run(xsum, feed_dict={x:x_array}))\n",
    "    print ('Column Means \\n', sess.run(xmean, feed_dict={x:x_array}))"
   ]
  },
  {
   "cell_type": "markdown",
   "metadata": {},
   "source": [
    "## Developing a Simple Model with the Low-Level Tensorflow API\n",
    "\n",
    "Let's implement an OLS regression using Tensorflow."
   ]
  },
  {
   "cell_type": "code",
   "execution_count": 18,
   "metadata": {},
   "outputs": [
    {
     "name": "stdout",
     "output_type": "stream",
     "text": [
      "WARNING:tensorflow:From /Users/zach/anaconda3/lib/python3.6/site-packages/tensorflow/python/ops/math_ops.py:3066: to_int32 (from tensorflow.python.ops.math_ops) is deprecated and will be removed in a future version.\n",
      "Instructions for updating:\n",
      "Use tf.cast instead.\n"
     ]
    }
   ],
   "source": [
    "X_train = np.arange(10).reshape((10, 1))\n",
    "y_train = np.array([1.0, 1.3, 3.1,\n",
    "                   2.0, 5.0, 6.3,\n",
    "                   6.6, 7.4, 8.0,\n",
    "                   9.0])\n",
    "\n",
    "# create a linear regression using tensorflow\n",
    "class TfLinReg(object):\n",
    "    def __init__(self, x_dim, learning_rate=0.01, random_seed=None):\n",
    "        self.x_dim = x_dim\n",
    "        self.learning_rate = learning_rate\n",
    "        self.g = tf.Graph()\n",
    "        ## build the model\n",
    "        with self.g.as_default():\n",
    "            ## set graph level random seed\n",
    "            tf.set_random_seed(random_seed)\n",
    "            \n",
    "            self.build()\n",
    "            ## create initializer\n",
    "            self.init_op = tf.global_variables_initializer()\n",
    "            \n",
    "    def build(self):\n",
    "        ## define placeholders for inputs\n",
    "        self.X = tf.placeholder(dtype=tf.float32,\n",
    "                               shape=(None, self.x_dim),\n",
    "                               name='x_input')\n",
    "        self.y = tf.placeholder(dtype=tf.float32,\n",
    "                               shape=(None),\n",
    "                               name='y_input')\n",
    "        \n",
    "        ## define weight matrix and bias vector\n",
    "        w = tf.Variable(tf.zeros(shape=(1)),\n",
    "                       name='weight')\n",
    "        b = tf.Variable(tf.zeros(shape=(1)),\n",
    "                       name='bias')\n",
    "        \n",
    "        self.z_net = tf.squeeze(w*self.X + b,\n",
    "                               name='z_net')\n",
    "        \n",
    "        sqr_errors = tf.square(self.y - self.z_net,\n",
    "                              name='sqr_errors')\n",
    "        \n",
    "        \n",
    "        self.mean_cost = tf.reduce_mean(sqr_errors,\n",
    "                                       name='mean_cost')\n",
    "        \n",
    "        optimizer = tf.train.GradientDescentOptimizer(\n",
    "                    learning_rate=self.learning_rate,\n",
    "                    name='GradientDescent')\n",
    "        \n",
    "        self.optimizer = optimizer.minimize(self.mean_cost)\n",
    "        \n",
    "# instantiate model\n",
    "lrmodel = TfLinReg(x_dim=X_train.shape[1])        "
   ]
  },
  {
   "cell_type": "code",
   "execution_count": 19,
   "metadata": {},
   "outputs": [],
   "source": [
    "# defining a separate function to train our OLS model\n",
    "def train_linreg(sess, model, X_train, y_train, num_epochs=10):\n",
    "    ## initialize all variables: W and b\n",
    "    sess.run(model.init_op)\n",
    "    \n",
    "    training_costs = []\n",
    "    for i in range(num_epochs):\n",
    "        _, cost = sess.run([model.optimizer, model.mean_cost],\n",
    "                          feed_dict={model.X:X_train,\n",
    "                                    model.y:y_train})\n",
    "        training_costs.append(cost)\n",
    "    \n",
    "    return training_costs\n",
    "\n",
    "sess = tf.Session(graph=lrmodel.g)\n",
    "training_costs = train_linreg(sess, lrmodel, X_train, y_train)"
   ]
  },
  {
   "cell_type": "code",
   "execution_count": 23,
   "metadata": {},
   "outputs": [
    {
     "data": {
      "image/png": "[encoded data removed]",
      "text/plain": [
       "<Figure size 432x288 with 1 Axes>"
      ]
     },
     "metadata": {
      "needs_background": "light"
     },
     "output_type": "display_data"
    }
   ],
   "source": [
    "import matplotlib.pyplot as plt\n",
    "plt.plot(range(1, len(training_costs)+1), training_costs)\n",
    "plt.xlabel('Epochs')\n",
    "plt.ylabel('Costs')\n",
    "plt.show()"
   ]
  },
  {
   "cell_type": "markdown",
   "metadata": {},
   "source": [
    "## Developing a Multilayer Neural Network with Keras"
   ]
  },
  {
   "cell_type": "code",
   "execution_count": 26,
   "metadata": {},
   "outputs": [],
   "source": [
    "# loading data\n",
    "import os\n",
    "import numpy as np\n",
    "import struct\n",
    "\n",
    "def load_mnist(path, kind='train'):\n",
    "    \"\"\"\n",
    "    Load MNIST data from 'path'\n",
    "    \"\"\"\n",
    "    labels_path = os.path.join(path, '%s-labels-idx1-ubyte' % kind)\n",
    "    images_path = os.path.join(path, '%s-images-idx3-ubyte' % kind)\n",
    "    \n",
    "    with open(labels_path, 'rb') as lbpath:\n",
    "        magic, n = struct.unpack('>II',\n",
    "                                lbpath.read(8))\n",
    "        labels = np.fromfile(lbpath,\n",
    "                            dtype=np.uint8)\n",
    "        \n",
    "    with open(images_path, 'rb') as imgpath:\n",
    "        magic, num, rows, cols = struct.unpack('>IIII',\n",
    "                                              imgpath.read(16))\n",
    "        images = np.fromfile(imgpath,\n",
    "                            dtype=np.uint8).reshape(len(labels), 784)\n",
    "        images = ((images / 255.) - 0.5) * 2\n",
    "    \n",
    "    return images, labels\n",
    "\n",
    "X_train, y_train = load_mnist('', kind='train')\n",
    "X_test, y_test = load_mnist('', kind='t10k')\n",
    "\n",
    "## mean centering and normalization\n",
    "mean_vals = np.mean(X_train, axis=0)\n",
    "std_val = np.std(X_train)\n",
    "\n",
    "X_train_centered = (X_train - mean_vals) / std_val\n",
    "X_test_centered = (X_test - mean_vals) / std_val\n",
    "\n",
    "del X_train, X_test"
   ]
  },
  {
   "cell_type": "code",
   "execution_count": 31,
   "metadata": {},
   "outputs": [],
   "source": [
    "import tensorflow as tf\n",
    "import tensorflow.keras as keras\n",
    "\n",
    "tf.set_random_seed(123)"
   ]
  },
  {
   "cell_type": "code",
   "execution_count": 32,
   "metadata": {},
   "outputs": [],
   "source": [
    "y_train_onehot = keras.utils.to_categorical(y_train)"
   ]
  },
  {
   "cell_type": "code",
   "execution_count": 34,
   "metadata": {},
   "outputs": [],
   "source": [
    "model = keras.models.Sequential()\n",
    "\n",
    "model.add(\n",
    "    keras.layers.Dense(\n",
    "        units=50,\n",
    "        input_dim=X_train_centered.shape[1],\n",
    "        kernel_initializer='glorot_uniform',\n",
    "        bias_initializer='zeros',\n",
    "        activation='tanh'))\n",
    "\n",
    "model.add(\n",
    "    keras.layers.Dense(\n",
    "        units=50,\n",
    "        input_dim=50,\n",
    "        kernel_initializer='glorot_uniform',\n",
    "        bias_initializer='zeros',\n",
    "        activation='tanh'))\n",
    "\n",
    "model.add(\n",
    "    keras.layers.Dense(\n",
    "        units=y_train_onehot.shape[1],\n",
    "        input_dim=50,\n",
    "        kernel_initializer='glorot_uniform',\n",
    "        bias_initializer='zeros',\n",
    "        activation='softmax'))\n",
    "\n",
    "sgd_optimizer = keras.optimizers.SGD(\n",
    "    lr=0.001, decay=1e-7, momentum=0.9)\n",
    "\n",
    "model.compile(optimizer=sgd_optimizer,\n",
    "             loss='categorical_crossentropy')"
   ]
  },
  {
   "cell_type": "code",
   "execution_count": 35,
   "metadata": {},
   "outputs": [
    {
     "name": "stdout",
     "output_type": "stream",
     "text": [
      "Train on 54000 samples, validate on 6000 samples\n",
      "Epoch 1/50\n",
      "54000/54000 [==============================] - 2s 41us/sample - loss: 0.7420 - val_loss: 0.3742\n",
      "Epoch 2/50\n",
      "54000/54000 [==============================] - 1s 25us/sample - loss: 0.3776 - val_loss: 0.2794\n",
      "Epoch 3/50\n",
      "54000/54000 [==============================] - 2s 28us/sample - loss: 0.3105 - val_loss: 0.2403\n",
      "Epoch 4/50\n",
      "54000/54000 [==============================] - 1s 25us/sample - loss: 0.2734 - val_loss: 0.2159\n",
      "Epoch 5/50\n",
      "54000/54000 [==============================] - 1s 27us/sample - loss: 0.2477 - val_loss: 0.1985 \n",
      "Epoch 6/50\n",
      "54000/54000 [==============================] - 1s 26us/sample - loss: 0.2275 - val_loss: 0.1845\n",
      "Epoch 7/50\n",
      "54000/54000 [==============================] - 1s 27us/sample - loss: 0.2112 - val_loss: 0.1721s - l - ETA: 0s - loss\n",
      "Epoch 8/50\n",
      "54000/54000 [==============================] - 1s 27us/sample - loss: 0.1975 - val_loss: 0.1640\n",
      "Epoch 9/50\n",
      "54000/54000 [==============================] - 2s 31us/sample - loss: 0.1859 - val_loss: 0.1561\n",
      "Epoch 10/50\n",
      "54000/54000 [==============================] - 2s 31us/sample - loss: 0.1757 - val_loss: 0.1488ETA: 0s - l\n",
      "Epoch 11/50\n",
      "54000/54000 [==============================] - 2s 37us/sample - loss: 0.1665 - val_loss: 0.1431\n",
      "Epoch 12/50\n",
      "54000/54000 [==============================] - 2s 32us/sample - loss: 0.1583 - val_loss: 0.1378\n",
      "Epoch 13/50\n",
      "54000/54000 [==============================] - 2s 29us/sample - loss: 0.1510 - val_loss: 0.1334\n",
      "Epoch 14/50\n",
      "54000/54000 [==============================] - 2s 30us/sample - loss: 0.1444 - val_loss: 0.1297\n",
      "Epoch 15/50\n",
      "54000/54000 [==============================] - 1s 27us/sample - loss: 0.1383 - val_loss: 0.1261\n",
      "Epoch 16/50\n",
      "54000/54000 [==============================] - 2s 28us/sample - loss: 0.1327 - val_loss: 0.1233\n",
      "Epoch 17/50\n",
      "54000/54000 [==============================] - 2s 29us/sample - loss: 0.1275 - val_loss: 0.1213\n",
      "Epoch 18/50\n",
      "54000/54000 [==============================] - 2s 28us/sample - loss: 0.1227 - val_loss: 0.1182\n",
      "Epoch 19/50\n",
      "54000/54000 [==============================] - 2s 28us/sample - loss: 0.1182 - val_loss: 0.1161\n",
      "Epoch 20/50\n",
      "54000/54000 [==============================] - 1s 26us/sample - loss: 0.1139 - val_loss: 0.1144\n",
      "Epoch 21/50\n",
      "54000/54000 [==============================] - 1s 27us/sample - loss: 0.1100 - val_loss: 0.1128\n",
      "Epoch 22/50\n",
      "54000/54000 [==============================] - 1s 27us/sample - loss: 0.1063 - val_loss: 0.1113\n",
      "Epoch 23/50\n",
      "54000/54000 [==============================] - 2s 29us/sample - loss: 0.1029 - val_loss: 0.1100\n",
      "Epoch 24/50\n",
      "54000/54000 [==============================] - 2s 29us/sample - loss: 0.0995 - val_loss: 0.1095\n",
      "Epoch 25/50\n",
      "54000/54000 [==============================] - 1s 27us/sample - loss: 0.0964 - val_loss: 0.1089\n",
      "Epoch 26/50\n",
      "54000/54000 [==============================] - 1s 26us/sample - loss: 0.0933 - val_loss: 0.1075\n",
      "Epoch 27/50\n",
      "54000/54000 [==============================] - 1s 26us/sample - loss: 0.0906 - val_loss: 0.1067\n",
      "Epoch 28/50\n",
      "54000/54000 [==============================] - 1s 26us/sample - loss: 0.0880 - val_loss: 0.1063\n",
      "Epoch 29/50\n",
      "54000/54000 [==============================] - 1s 26us/sample - loss: 0.0854 - val_loss: 0.1056\n",
      "Epoch 30/50\n",
      "54000/54000 [==============================] - 1s 27us/sample - loss: 0.0829 - val_loss: 0.1053\n",
      "Epoch 31/50\n",
      "54000/54000 [==============================] - 2s 28us/sample - loss: 0.0806 - val_loss: 0.1048\n",
      "Epoch 32/50\n",
      "54000/54000 [==============================] - 2s 28us/sample - loss: 0.0783 - val_loss: 0.1043\n",
      "Epoch 33/50\n",
      "54000/54000 [==============================] - 2s 29us/sample - loss: 0.0761 - val_loss: 0.1037\n",
      "Epoch 34/50\n",
      "54000/54000 [==============================] - 1s 26us/sample - loss: 0.0741 - val_loss: 0.1036\n",
      "Epoch 35/50\n",
      "54000/54000 [==============================] - 1s 27us/sample - loss: 0.0721 - val_loss: 0.1036\n",
      "Epoch 36/50\n",
      "54000/54000 [==============================] - 2s 28us/sample - loss: 0.0701 - val_loss: 0.1034s - l\n",
      "Epoch 37/50\n",
      "54000/54000 [==============================] - 1s 27us/sample - loss: 0.0681 - val_loss: 0.1027\n",
      "Epoch 38/50\n",
      "54000/54000 [==============================] - 1s 26us/sample - loss: 0.0664 - val_loss: 0.1026\n",
      "Epoch 39/50\n",
      "54000/54000 [==============================] - 1s 26us/sample - loss: 0.0646 - val_loss: 0.1039\n",
      "Epoch 40/50\n",
      "54000/54000 [==============================] - 1s 27us/sample - loss: 0.0629 - val_loss: 0.1035: 0s - loss\n",
      "Epoch 41/50\n",
      "54000/54000 [==============================] - 2s 28us/sample - loss: 0.0613 - val_loss: 0.1021.0\n",
      "Epoch 42/50\n",
      "54000/54000 [==============================] - 1s 27us/sample - loss: 0.0597 - val_loss: 0.1024\n",
      "Epoch 43/50\n",
      "54000/54000 [==============================] - 1s 27us/sample - loss: 0.0582 - val_loss: 0.1035\n",
      "Epoch 44/50\n",
      "54000/54000 [==============================] - 2s 30us/sample - loss: 0.0568 - val_loss: 0.1019\n",
      "Epoch 45/50\n",
      "54000/54000 [==============================] - 2s 30us/sample - loss: 0.0554 - val_loss: 0.10210\n",
      "Epoch 46/50\n",
      "54000/54000 [==============================] - 2s 30us/sample - loss: 0.0539 - val_loss: 0.1024\n",
      "Epoch 47/50\n",
      "54000/54000 [==============================] - 2s 30us/sample - loss: 0.0525 - val_loss: 0.1025\n",
      "Epoch 48/50\n",
      "54000/54000 [==============================] - 2s 30us/sample - loss: 0.0513 - val_loss: 0.1019\n",
      "Epoch 49/50\n",
      "54000/54000 [==============================] - 1s 27us/sample - loss: 0.0500 - val_loss: 0.1024\n",
      "Epoch 50/50\n",
      "54000/54000 [==============================] - 2s 32us/sample - loss: 0.0487 - val_loss: 0.1025\n"
     ]
    }
   ],
   "source": [
    "history = model.fit(X_train_centered,\n",
    "                   y_train_onehot,\n",
    "                   batch_size=64,\n",
    "                   epochs=50,\n",
    "                   verbose=1,\n",
    "                   validation_split=0.1)"
   ]
  },
  {
   "cell_type": "code",
   "execution_count": 36,
   "metadata": {},
   "outputs": [
    {
     "name": "stdout",
     "output_type": "stream",
     "text": [
      "Training Accuracy: 0.9884\n"
     ]
    }
   ],
   "source": [
    "y_train_pred = model.predict_classes(X_train_centered, verbose=0)\n",
    "correct_preds = np.sum(y_train_pred == y_train, axis=0)\n",
    "print ('Training Accuracy:', correct_preds / y_train.shape[0])"
   ]
  },
  {
   "cell_type": "code",
   "execution_count": 37,
   "metadata": {},
   "outputs": [
    {
     "name": "stdout",
     "output_type": "stream",
     "text": [
      "Testing Accuracy: 0.964\n"
     ]
    }
   ],
   "source": [
    "y_test_pred = model.predict_classes(X_test_centered, verbose=0)\n",
    "correct_preds = np.sum(y_test_pred == y_test, axis=0)\n",
    "print ('Testing Accuracy:', correct_preds / y_test.shape[0])"
   ]
  },
  {
   "cell_type": "code",
   "execution_count": null,
   "metadata": {},
   "outputs": [],
   "source": []
  }
 ],
 "metadata": {
  "kernelspec": {
   "display_name": "Python 3",
   "language": "python",
   "name": "python3"
  },
  "language_info": {
   "codemirror_mode": {
    "name": "ipython",
    "version": 3
   },
   "file_extension": ".py",
   "mimetype": "text/x-python",
   "name": "python",
   "nbconvert_exporter": "python",
   "pygments_lexer": "ipython3",
   "version": "3.6.8"
  }
 },
 "nbformat": 4,
 "nbformat_minor": 2
}
